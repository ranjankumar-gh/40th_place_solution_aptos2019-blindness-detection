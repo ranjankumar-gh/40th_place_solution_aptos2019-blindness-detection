{
  "nbformat": 4,
  "nbformat_minor": 0,
  "metadata": {
    "colab": {
      "name": "catarect_detection_using_vgg19_ver0.1.ipynb",
      "provenance": [],
      "authorship_tag": "ABX9TyP1oU9ryxIkA6ErenQmYjO1",
      "include_colab_link": true
    },
    "kernelspec": {
      "name": "python3",
      "display_name": "Python 3"
    },
    "language_info": {
      "name": "python"
    }
  },
  "cells": [
    {
      "cell_type": "markdown",
      "metadata": {
        "id": "view-in-github",
        "colab_type": "text"
      },
      "source": [
        "<a href=\"https://colab.research.google.com/github/ranjankumar-gh/40th_place_solution_aptos2019-blindness-detection/blob/master/catarect_detection_using_vgg19_ver0_1.ipynb\" target=\"_parent\"><img src=\"https://colab.research.google.com/assets/colab-badge.svg\" alt=\"Open In Colab\"/></a>"
      ]
    },
    {
      "cell_type": "code",
      "execution_count": null,
      "metadata": {
        "id": "MuY5ZUehMZ4B"
      },
      "outputs": [],
      "source": [
        ""
      ]
    }
  ]
}